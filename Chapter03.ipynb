{
 "cells": [
  {
   "cell_type": "code",
   "execution_count": 16,
   "id": "8e110876-6d61-4724-9d90-71b568788359",
   "metadata": {},
   "outputs": [],
   "source": [
    "import pandas as pd\n",
    "import yfinance as yf\n",
    "import matplotlib.pyplot as plt\n",
    "import seaborn as sns\n",
    "sns.set_style('darkgrid')\n",
    "# plt.style.use('seaborn-darkgrid')\n",
    "# %matplotlib inline"
   ]
  },
  {
   "cell_type": "code",
   "execution_count": 3,
   "id": "63872191-0135-472e-8341-5c05b0834c19",
   "metadata": {},
   "outputs": [
    {
     "name": "stderr",
     "output_type": "stream",
     "text": [
      "C:\\Users\\e3plfmen\\AppData\\Local\\Temp\\1\\ipykernel_37492\\865895887.py:1: FutureWarning: YF.download() has changed argument auto_adjust default to True\n",
      "  futures_data = yf.download(\"PL=F\", start=\"2022-01-01\", end=\"2022-12-31\")\n",
      "[*********************100%***********************]  1 of 1 completed\n"
     ]
    }
   ],
   "source": [
    "futures_data = yf.download(\"PL=F\", start=\"2022-01-01\", end=\"2022-12-31\")\n",
    "futures_data.index = pd.to_datetime(futures_data.index)"
   ]
  },
  {
   "cell_type": "code",
   "execution_count": 10,
   "id": "c35c97e7-8c75-4257-b690-1b359e374fca",
   "metadata": {},
   "outputs": [
    {
     "data": {
      "text/html": [
       "<div>\n",
       "<style scoped>\n",
       "    .dataframe tbody tr th:only-of-type {\n",
       "        vertical-align: middle;\n",
       "    }\n",
       "\n",
       "    .dataframe tbody tr th {\n",
       "        vertical-align: top;\n",
       "    }\n",
       "\n",
       "    .dataframe thead tr th {\n",
       "        text-align: left;\n",
       "    }\n",
       "\n",
       "    .dataframe thead tr:last-of-type th {\n",
       "        text-align: right;\n",
       "    }\n",
       "</style>\n",
       "<table border=\"1\" class=\"dataframe\">\n",
       "  <thead>\n",
       "    <tr>\n",
       "      <th>Price</th>\n",
       "      <th>Close</th>\n",
       "      <th>High</th>\n",
       "      <th>Low</th>\n",
       "      <th>Open</th>\n",
       "      <th>Volume</th>\n",
       "    </tr>\n",
       "    <tr>\n",
       "      <th>Ticker</th>\n",
       "      <th>PL=F</th>\n",
       "      <th>PL=F</th>\n",
       "      <th>PL=F</th>\n",
       "      <th>PL=F</th>\n",
       "      <th>PL=F</th>\n",
       "    </tr>\n",
       "    <tr>\n",
       "      <th>Date</th>\n",
       "      <th></th>\n",
       "      <th></th>\n",
       "      <th></th>\n",
       "      <th></th>\n",
       "      <th></th>\n",
       "    </tr>\n",
       "  </thead>\n",
       "  <tbody>\n",
       "    <tr>\n",
       "      <th>2022-01-03</th>\n",
       "      <td>953.700012</td>\n",
       "      <td>978.200012</td>\n",
       "      <td>928.700012</td>\n",
       "      <td>978.200012</td>\n",
       "      <td>231</td>\n",
       "    </tr>\n",
       "    <tr>\n",
       "      <th>2022-01-04</th>\n",
       "      <td>970.400024</td>\n",
       "      <td>975.000000</td>\n",
       "      <td>950.900024</td>\n",
       "      <td>950.900024</td>\n",
       "      <td>58</td>\n",
       "    </tr>\n",
       "    <tr>\n",
       "      <th>2022-01-05</th>\n",
       "      <td>1001.900024</td>\n",
       "      <td>1001.900024</td>\n",
       "      <td>978.799988</td>\n",
       "      <td>980.000000</td>\n",
       "      <td>37</td>\n",
       "    </tr>\n",
       "    <tr>\n",
       "      <th>2022-01-06</th>\n",
       "      <td>960.599976</td>\n",
       "      <td>973.599976</td>\n",
       "      <td>960.500000</td>\n",
       "      <td>964.000000</td>\n",
       "      <td>7</td>\n",
       "    </tr>\n",
       "    <tr>\n",
       "      <th>2022-01-07</th>\n",
       "      <td>957.000000</td>\n",
       "      <td>970.200012</td>\n",
       "      <td>957.000000</td>\n",
       "      <td>970.200012</td>\n",
       "      <td>6</td>\n",
       "    </tr>\n",
       "    <tr>\n",
       "      <th>...</th>\n",
       "      <td>...</td>\n",
       "      <td>...</td>\n",
       "      <td>...</td>\n",
       "      <td>...</td>\n",
       "      <td>...</td>\n",
       "    </tr>\n",
       "    <tr>\n",
       "      <th>2022-12-23</th>\n",
       "      <td>1042.599976</td>\n",
       "      <td>1042.599976</td>\n",
       "      <td>1042.599976</td>\n",
       "      <td>1042.599976</td>\n",
       "      <td>0</td>\n",
       "    </tr>\n",
       "    <tr>\n",
       "      <th>2022-12-27</th>\n",
       "      <td>1042.699951</td>\n",
       "      <td>1042.699951</td>\n",
       "      <td>1042.699951</td>\n",
       "      <td>1042.699951</td>\n",
       "      <td>0</td>\n",
       "    </tr>\n",
       "    <tr>\n",
       "      <th>2022-12-28</th>\n",
       "      <td>1029.800049</td>\n",
       "      <td>1029.800049</td>\n",
       "      <td>1029.800049</td>\n",
       "      <td>1029.800049</td>\n",
       "      <td>3920</td>\n",
       "    </tr>\n",
       "    <tr>\n",
       "      <th>2022-12-29</th>\n",
       "      <td>1049.699951</td>\n",
       "      <td>1058.099976</td>\n",
       "      <td>1010.299988</td>\n",
       "      <td>1013.299988</td>\n",
       "      <td>3288</td>\n",
       "    </tr>\n",
       "    <tr>\n",
       "      <th>2022-12-30</th>\n",
       "      <td>1073.699951</td>\n",
       "      <td>1077.500000</td>\n",
       "      <td>1052.099976</td>\n",
       "      <td>1055.800049</td>\n",
       "      <td>361</td>\n",
       "    </tr>\n",
       "  </tbody>\n",
       "</table>\n",
       "<p>251 rows × 5 columns</p>\n",
       "</div>"
      ],
      "text/plain": [
       "Price             Close         High          Low         Open Volume\n",
       "Ticker             PL=F         PL=F         PL=F         PL=F   PL=F\n",
       "Date                                                                 \n",
       "2022-01-03   953.700012   978.200012   928.700012   978.200012    231\n",
       "2022-01-04   970.400024   975.000000   950.900024   950.900024     58\n",
       "2022-01-05  1001.900024  1001.900024   978.799988   980.000000     37\n",
       "2022-01-06   960.599976   973.599976   960.500000   964.000000      7\n",
       "2022-01-07   957.000000   970.200012   957.000000   970.200012      6\n",
       "...                 ...          ...          ...          ...    ...\n",
       "2022-12-23  1042.599976  1042.599976  1042.599976  1042.599976      0\n",
       "2022-12-27  1042.699951  1042.699951  1042.699951  1042.699951      0\n",
       "2022-12-28  1029.800049  1029.800049  1029.800049  1029.800049   3920\n",
       "2022-12-29  1049.699951  1058.099976  1010.299988  1013.299988   3288\n",
       "2022-12-30  1073.699951  1077.500000  1052.099976  1055.800049    361\n",
       "\n",
       "[251 rows x 5 columns]"
      ]
     },
     "execution_count": 10,
     "metadata": {},
     "output_type": "execute_result"
    }
   ],
   "source": [
    "futures_data"
   ]
  },
  {
   "cell_type": "code",
   "execution_count": 17,
   "id": "4c3e766b-fbbc-4411-9df9-d1ccb107b217",
   "metadata": {},
   "outputs": [
    {
     "data": {
      "text/plain": [
       "<Figure size 1500x700 with 0 Axes>"
      ]
     },
     "metadata": {},
     "output_type": "display_data"
    },
    {
     "data": {
      "image/png": "[encoded data removed]",
      "text/plain": [
       "<Figure size 640x480 with 1 Axes>"
      ]
     },
     "metadata": {},
     "output_type": "display_data"
    }
   ],
   "source": [
    "plt.figure(figsize=(15, 7))\n",
    "futures_data['Close'].plot()\n",
    "plt.title('Platinum Futures Data', fontsize=16)\n",
    "plt.xlabel('Year', fontsize=15)\n",
    "plt.ylabel('Price ($)', fontsize=15)\n",
    "plt.xticks(fontsize=15)\n",
    "plt.yticks(fontsize=15)              \n",
    "plt.legend(['Close'], prop={'size': 15})\n",
    "plt.show()"
   ]
  },
  {
   "cell_type": "code",
   "execution_count": 18,
   "id": "413f3ab8-67a0-41ef-a588-a76a194cc025",
   "metadata": {},
   "outputs": [
    {
     "name": "stderr",
     "output_type": "stream",
     "text": [
      "C:\\Users\\e3plfmen\\AppData\\Local\\Temp\\1\\ipykernel_37492\\570401700.py:2: FutureWarning: YF.download() has changed argument auto_adjust default to True\n",
      "  futures_data = yf.download(futures_symbol, start=\"2022-01-01\", end=\"2022-04-01\", interval=\"1d\")\n",
      "[*********************100%***********************]  1 of 1 completed\n"
     ]
    }
   ],
   "source": [
    "futures_symbol = \"ES=F\"                \n",
    "futures_data = yf.download(futures_symbol, start=\"2022-01-01\", end=\"2022-04-01\", interval=\"1d\")"
   ]
  },
  {
   "cell_type": "code",
   "execution_count": 26,
   "id": "ed2eafcf-1ab8-4ef2-bdb3-d57deb612c23",
   "metadata": {},
   "outputs": [
    {
     "data": {
      "text/html": [
       "<div>\n",
       "<style scoped>\n",
       "    .dataframe tbody tr th:only-of-type {\n",
       "        vertical-align: middle;\n",
       "    }\n",
       "\n",
       "    .dataframe tbody tr th {\n",
       "        vertical-align: top;\n",
       "    }\n",
       "\n",
       "    .dataframe thead th {\n",
       "        text-align: right;\n",
       "    }\n",
       "</style>\n",
       "<table border=\"1\" class=\"dataframe\">\n",
       "  <thead>\n",
       "    <tr style=\"text-align: right;\">\n",
       "      <th>Ticker</th>\n",
       "      <th>ES=F</th>\n",
       "    </tr>\n",
       "    <tr>\n",
       "      <th>Date</th>\n",
       "      <th></th>\n",
       "    </tr>\n",
       "  </thead>\n",
       "  <tbody>\n",
       "    <tr>\n",
       "      <th>2022-01-03</th>\n",
       "      <td>4786.00</td>\n",
       "    </tr>\n",
       "    <tr>\n",
       "      <th>2022-01-04</th>\n",
       "      <td>4784.25</td>\n",
       "    </tr>\n",
       "    <tr>\n",
       "      <th>2022-01-05</th>\n",
       "      <td>4692.50</td>\n",
       "    </tr>\n",
       "    <tr>\n",
       "      <th>2022-01-06</th>\n",
       "      <td>4687.50</td>\n",
       "    </tr>\n",
       "    <tr>\n",
       "      <th>2022-01-07</th>\n",
       "      <td>4667.75</td>\n",
       "    </tr>\n",
       "    <tr>\n",
       "      <th>...</th>\n",
       "      <td>...</td>\n",
       "    </tr>\n",
       "    <tr>\n",
       "      <th>2022-03-25</th>\n",
       "      <td>4536.50</td>\n",
       "    </tr>\n",
       "    <tr>\n",
       "      <th>2022-03-28</th>\n",
       "      <td>4568.00</td>\n",
       "    </tr>\n",
       "    <tr>\n",
       "      <th>2022-03-29</th>\n",
       "      <td>4625.50</td>\n",
       "    </tr>\n",
       "    <tr>\n",
       "      <th>2022-03-30</th>\n",
       "      <td>4596.00</td>\n",
       "    </tr>\n",
       "    <tr>\n",
       "      <th>2022-03-31</th>\n",
       "      <td>4530.75</td>\n",
       "    </tr>\n",
       "  </tbody>\n",
       "</table>\n",
       "<p>62 rows × 1 columns</p>\n",
       "</div>"
      ],
      "text/plain": [
       "Ticker         ES=F\n",
       "Date               \n",
       "2022-01-03  4786.00\n",
       "2022-01-04  4784.25\n",
       "2022-01-05  4692.50\n",
       "2022-01-06  4687.50\n",
       "2022-01-07  4667.75\n",
       "...             ...\n",
       "2022-03-25  4536.50\n",
       "2022-03-28  4568.00\n",
       "2022-03-29  4625.50\n",
       "2022-03-30  4596.00\n",
       "2022-03-31  4530.75\n",
       "\n",
       "[62 rows x 1 columns]"
      ]
     },
     "execution_count": 26,
     "metadata": {},
     "output_type": "execute_result"
    }
   ],
   "source": [
    "futures_data['Close']"
   ]
  },
  {
   "cell_type": "code",
   "execution_count": 32,
   "id": "bce36d31-aa5a-4c14-b5f9-e2b16ecf70aa",
   "metadata": {},
   "outputs": [
    {
     "ename": "ValueError",
     "evalue": "Data must be 1-dimensional, got ndarray of shape (62, 1) instead",
     "output_type": "error",
     "traceback": [
      "\u001b[31m---------------------------------------------------------------------------\u001b[39m",
      "\u001b[31mValueError\u001b[39m                                Traceback (most recent call last)",
      "\u001b[36mCell\u001b[39m\u001b[36m \u001b[39m\u001b[32mIn[32]\u001b[39m\u001b[32m, line 3\u001b[39m\n\u001b[32m      1\u001b[39m \u001b[38;5;28;01mimport\u001b[39;00m\u001b[38;5;250m \u001b[39m\u001b[34;01mta\u001b[39;00m\n\u001b[32m      2\u001b[39m \u001b[38;5;66;03m# Calculate RSI                \u001b[39;00m\n\u001b[32m----> \u001b[39m\u001b[32m3\u001b[39m futures_data[\u001b[33m\"\u001b[39m\u001b[33mRSI\u001b[39m\u001b[33m\"\u001b[39m] = \u001b[43mta\u001b[49m\u001b[43m.\u001b[49m\u001b[43mmomentum\u001b[49m\u001b[43m.\u001b[49m\u001b[43mRSIIndicator\u001b[49m\u001b[43m(\u001b[49m\u001b[43mfutures_data\u001b[49m\u001b[43m[\u001b[49m\u001b[33;43m\"\u001b[39;49m\u001b[33;43mClose\u001b[39;49m\u001b[33;43m\"\u001b[39;49m\u001b[43m]\u001b[49m\u001b[43m)\u001b[49m.rsi()\n\u001b[32m      5\u001b[39m \u001b[38;5;66;03m# Calculate Bollinger Bands\u001b[39;00m\n\u001b[32m      6\u001b[39m bbands = ta.volatility.BollingerBands(futures_data[\u001b[33m\"\u001b[39m\u001b[33mClose\u001b[39m\u001b[33m\"\u001b[39m])\n",
      "\u001b[36mFile \u001b[39m\u001b[32mc:\\Users\\e3plfmen\\Downloads\\~Programming testing projects\\Quantitative Trading Strategies Using Python\\.venv\\Lib\\site-packages\\ta\\momentum.py:34\u001b[39m, in \u001b[36mRSIIndicator.__init__\u001b[39m\u001b[34m(self, close, window, fillna)\u001b[39m\n\u001b[32m     32\u001b[39m \u001b[38;5;28mself\u001b[39m._window = window\n\u001b[32m     33\u001b[39m \u001b[38;5;28mself\u001b[39m._fillna = fillna\n\u001b[32m---> \u001b[39m\u001b[32m34\u001b[39m \u001b[38;5;28;43mself\u001b[39;49m\u001b[43m.\u001b[49m\u001b[43m_run\u001b[49m\u001b[43m(\u001b[49m\u001b[43m)\u001b[49m\n",
      "\u001b[36mFile \u001b[39m\u001b[32mc:\\Users\\e3plfmen\\Downloads\\~Programming testing projects\\Quantitative Trading Strategies Using Python\\.venv\\Lib\\site-packages\\ta\\momentum.py:48\u001b[39m, in \u001b[36mRSIIndicator._run\u001b[39m\u001b[34m(self)\u001b[39m\n\u001b[32m     44\u001b[39m emadn = down_direction.ewm(\n\u001b[32m     45\u001b[39m     alpha=\u001b[32m1\u001b[39m / \u001b[38;5;28mself\u001b[39m._window, min_periods=min_periods, adjust=\u001b[38;5;28;01mFalse\u001b[39;00m\n\u001b[32m     46\u001b[39m ).mean()\n\u001b[32m     47\u001b[39m relative_strength = emaup / emadn\n\u001b[32m---> \u001b[39m\u001b[32m48\u001b[39m \u001b[38;5;28mself\u001b[39m._rsi = \u001b[43mpd\u001b[49m\u001b[43m.\u001b[49m\u001b[43mSeries\u001b[49m\u001b[43m(\u001b[49m\n\u001b[32m     49\u001b[39m \u001b[43m    \u001b[49m\u001b[43mnp\u001b[49m\u001b[43m.\u001b[49m\u001b[43mwhere\u001b[49m\u001b[43m(\u001b[49m\u001b[43memadn\u001b[49m\u001b[43m \u001b[49m\u001b[43m==\u001b[49m\u001b[43m \u001b[49m\u001b[32;43m0\u001b[39;49m\u001b[43m,\u001b[49m\u001b[43m \u001b[49m\u001b[32;43m100\u001b[39;49m\u001b[43m,\u001b[49m\u001b[43m \u001b[49m\u001b[32;43m100\u001b[39;49m\u001b[43m \u001b[49m\u001b[43m-\u001b[49m\u001b[43m \u001b[49m\u001b[43m(\u001b[49m\u001b[32;43m100\u001b[39;49m\u001b[43m \u001b[49m\u001b[43m/\u001b[49m\u001b[43m \u001b[49m\u001b[43m(\u001b[49m\u001b[32;43m1\u001b[39;49m\u001b[43m \u001b[49m\u001b[43m+\u001b[49m\u001b[43m \u001b[49m\u001b[43mrelative_strength\u001b[49m\u001b[43m)\u001b[49m\u001b[43m)\u001b[49m\u001b[43m)\u001b[49m\u001b[43m,\u001b[49m\n\u001b[32m     50\u001b[39m \u001b[43m    \u001b[49m\u001b[43mindex\u001b[49m\u001b[43m=\u001b[49m\u001b[38;5;28;43mself\u001b[39;49m\u001b[43m.\u001b[49m\u001b[43m_close\u001b[49m\u001b[43m.\u001b[49m\u001b[43mindex\u001b[49m\u001b[43m,\u001b[49m\n\u001b[32m     51\u001b[39m \u001b[43m\u001b[49m\u001b[43m)\u001b[49m\n",
      "\u001b[36mFile \u001b[39m\u001b[32mc:\\Users\\e3plfmen\\Downloads\\~Programming testing projects\\Quantitative Trading Strategies Using Python\\.venv\\Lib\\site-packages\\pandas\\core\\series.py:584\u001b[39m, in \u001b[36mSeries.__init__\u001b[39m\u001b[34m(self, data, index, dtype, name, copy, fastpath)\u001b[39m\n\u001b[32m    582\u001b[39m         data = data.copy()\n\u001b[32m    583\u001b[39m \u001b[38;5;28;01melse\u001b[39;00m:\n\u001b[32m--> \u001b[39m\u001b[32m584\u001b[39m     data = \u001b[43msanitize_array\u001b[49m\u001b[43m(\u001b[49m\u001b[43mdata\u001b[49m\u001b[43m,\u001b[49m\u001b[43m \u001b[49m\u001b[43mindex\u001b[49m\u001b[43m,\u001b[49m\u001b[43m \u001b[49m\u001b[43mdtype\u001b[49m\u001b[43m,\u001b[49m\u001b[43m \u001b[49m\u001b[43mcopy\u001b[49m\u001b[43m)\u001b[49m\n\u001b[32m    586\u001b[39m     manager = _get_option(\u001b[33m\"\u001b[39m\u001b[33mmode.data_manager\u001b[39m\u001b[33m\"\u001b[39m, silent=\u001b[38;5;28;01mTrue\u001b[39;00m)\n\u001b[32m    587\u001b[39m     \u001b[38;5;28;01mif\u001b[39;00m manager == \u001b[33m\"\u001b[39m\u001b[33mblock\u001b[39m\u001b[33m\"\u001b[39m:\n",
      "\u001b[36mFile \u001b[39m\u001b[32mc:\\Users\\e3plfmen\\Downloads\\~Programming testing projects\\Quantitative Trading Strategies Using Python\\.venv\\Lib\\site-packages\\pandas\\core\\construction.py:656\u001b[39m, in \u001b[36msanitize_array\u001b[39m\u001b[34m(data, index, dtype, copy, allow_2d)\u001b[39m\n\u001b[32m    653\u001b[39m             subarr = cast(np.ndarray, subarr)\n\u001b[32m    654\u001b[39m             subarr = maybe_infer_to_datetimelike(subarr)\n\u001b[32m--> \u001b[39m\u001b[32m656\u001b[39m subarr = \u001b[43m_sanitize_ndim\u001b[49m\u001b[43m(\u001b[49m\u001b[43msubarr\u001b[49m\u001b[43m,\u001b[49m\u001b[43m \u001b[49m\u001b[43mdata\u001b[49m\u001b[43m,\u001b[49m\u001b[43m \u001b[49m\u001b[43mdtype\u001b[49m\u001b[43m,\u001b[49m\u001b[43m \u001b[49m\u001b[43mindex\u001b[49m\u001b[43m,\u001b[49m\u001b[43m \u001b[49m\u001b[43mallow_2d\u001b[49m\u001b[43m=\u001b[49m\u001b[43mallow_2d\u001b[49m\u001b[43m)\u001b[49m\n\u001b[32m    658\u001b[39m \u001b[38;5;28;01mif\u001b[39;00m \u001b[38;5;28misinstance\u001b[39m(subarr, np.ndarray):\n\u001b[32m    659\u001b[39m     \u001b[38;5;66;03m# at this point we should have dtype be None or subarr.dtype == dtype\u001b[39;00m\n\u001b[32m    660\u001b[39m     dtype = cast(np.dtype, dtype)\n",
      "\u001b[36mFile \u001b[39m\u001b[32mc:\\Users\\e3plfmen\\Downloads\\~Programming testing projects\\Quantitative Trading Strategies Using Python\\.venv\\Lib\\site-packages\\pandas\\core\\construction.py:715\u001b[39m, in \u001b[36m_sanitize_ndim\u001b[39m\u001b[34m(result, data, dtype, index, allow_2d)\u001b[39m\n\u001b[32m    713\u001b[39m     \u001b[38;5;28;01mif\u001b[39;00m allow_2d:\n\u001b[32m    714\u001b[39m         \u001b[38;5;28;01mreturn\u001b[39;00m result\n\u001b[32m--> \u001b[39m\u001b[32m715\u001b[39m     \u001b[38;5;28;01mraise\u001b[39;00m \u001b[38;5;167;01mValueError\u001b[39;00m(\n\u001b[32m    716\u001b[39m         \u001b[33mf\u001b[39m\u001b[33m\"\u001b[39m\u001b[33mData must be 1-dimensional, got ndarray of shape \u001b[39m\u001b[38;5;132;01m{\u001b[39;00mdata.shape\u001b[38;5;132;01m}\u001b[39;00m\u001b[33m instead\u001b[39m\u001b[33m\"\u001b[39m\n\u001b[32m    717\u001b[39m     )\n\u001b[32m    718\u001b[39m \u001b[38;5;28;01mif\u001b[39;00m is_object_dtype(dtype) \u001b[38;5;129;01mand\u001b[39;00m \u001b[38;5;28misinstance\u001b[39m(dtype, ExtensionDtype):\n\u001b[32m    719\u001b[39m     \u001b[38;5;66;03m# i.e. NumpyEADtype(\"O\")\u001b[39;00m\n\u001b[32m    721\u001b[39m     result = com.asarray_tuplesafe(data, dtype=np.dtype(\u001b[33m\"\u001b[39m\u001b[33mobject\u001b[39m\u001b[33m\"\u001b[39m))\n",
      "\u001b[31mValueError\u001b[39m: Data must be 1-dimensional, got ndarray of shape (62, 1) instead"
     ]
    }
   ],
   "source": [
    "import ta\n",
    "# Calculate RSI                \n",
    "futures_data[\"RSI\"] = ta.momentum.RSIIndicator(futures_data[\"Close\"]).rsi()\n",
    "                \n",
    "# Calculate Bollinger Bands\n",
    "bbands = ta.volatility.BollingerBands(futures_data[\"Close\"])\n",
    "futures_data[\"BB_upper\"] = bbands.bollinger_hband()\n",
    "futures_data[\"BB_lower\"] = bbands.bollinger_lband()\n",
    "                \n",
    "# Calculate MACD\n",
    "macd = ta.trend.MACD(futures_data[\"Close\"])\n",
    "futures_data[\"MACD\"] = macd.macd()\n",
    "futures_data[\"MACD_signal\"] = macd.macd_signal()"
   ]
  },
  {
   "cell_type": "code",
   "execution_count": null,
   "id": "1dee4727-34d3-401f-9090-07cac8a48901",
   "metadata": {},
   "outputs": [],
   "source": []
  },
  {
   "cell_type": "code",
   "execution_count": null,
   "id": "d9a04c0a-c3d1-4008-a91d-17d6da4806e8",
   "metadata": {},
   "outputs": [],
   "source": []
  },
  {
   "cell_type": "code",
   "execution_count": null,
   "id": "3549c6e7-de1c-4c24-b4d9-7943839413ee",
   "metadata": {},
   "outputs": [],
   "source": []
  },
  {
   "cell_type": "code",
   "execution_count": null,
   "id": "108a48c5-847d-4fb9-b3ba-9eb231535b74",
   "metadata": {},
   "outputs": [],
   "source": []
  },
  {
   "cell_type": "code",
   "execution_count": null,
   "id": "dddf3ad2-0757-4209-9385-7a4fd8416a7b",
   "metadata": {},
   "outputs": [],
   "source": []
  },
  {
   "cell_type": "code",
   "execution_count": null,
   "id": "ee16a641-a642-4a8a-8dee-66aa2066361b",
   "metadata": {},
   "outputs": [],
   "source": []
  },
  {
   "cell_type": "code",
   "execution_count": null,
   "id": "b83ec724-66fc-447c-a2a1-0b0762f3a54a",
   "metadata": {},
   "outputs": [],
   "source": []
  },
  {
   "cell_type": "code",
   "execution_count": null,
   "id": "65dc78a9-9ec4-42b2-bb28-62fe1c525825",
   "metadata": {},
   "outputs": [],
   "source": []
  },
  {
   "cell_type": "code",
   "execution_count": null,
   "id": "739b35bc-5497-441f-8277-ad694474f4f5",
   "metadata": {},
   "outputs": [],
   "source": []
  },
  {
   "cell_type": "code",
   "execution_count": null,
   "id": "d4bf095d-e281-4bbc-bb1d-f9e097e57820",
   "metadata": {},
   "outputs": [],
   "source": []
  },
  {
   "cell_type": "code",
   "execution_count": null,
   "id": "254073f2-2e9d-4bae-90b4-49c1b06b904b",
   "metadata": {},
   "outputs": [],
   "source": []
  },
  {
   "cell_type": "code",
   "execution_count": null,
   "id": "d76d2cd8-40c0-40ec-abcc-bafda8cc4faf",
   "metadata": {},
   "outputs": [],
   "source": []
  },
  {
   "cell_type": "code",
   "execution_count": null,
   "id": "5f26f5c7-03ea-4b54-b3da-c3dd50f0dab4",
   "metadata": {},
   "outputs": [],
   "source": []
  },
  {
   "cell_type": "code",
   "execution_count": null,
   "id": "db19272f-249c-4d0d-a481-18e0ef2965ee",
   "metadata": {},
   "outputs": [],
   "source": []
  },
  {
   "cell_type": "code",
   "execution_count": null,
   "id": "1d843450-bdc4-46c6-9dc3-c23f82802435",
   "metadata": {},
   "outputs": [],
   "source": []
  },
  {
   "cell_type": "code",
   "execution_count": null,
   "id": "324a86b9-33f7-4ccd-95ad-b5a419e409ad",
   "metadata": {},
   "outputs": [],
   "source": []
  },
  {
   "cell_type": "code",
   "execution_count": null,
   "id": "34692d44-f29c-4463-b4c5-20efea316949",
   "metadata": {},
   "outputs": [],
   "source": []
  }
 ],
 "metadata": {
  "kernelspec": {
   "display_name": "Python 3 (ipykernel)",
   "language": "python",
   "name": "python3"
  },
  "language_info": {
   "codemirror_mode": {
    "name": "ipython",
    "version": 3
   },
   "file_extension": ".py",
   "mimetype": "text/x-python",
   "name": "python",
   "nbconvert_exporter": "python",
   "pygments_lexer": "ipython3",
   "version": "3.11.2"
  }
 },
 "nbformat": 4,
 "nbformat_minor": 5
}
