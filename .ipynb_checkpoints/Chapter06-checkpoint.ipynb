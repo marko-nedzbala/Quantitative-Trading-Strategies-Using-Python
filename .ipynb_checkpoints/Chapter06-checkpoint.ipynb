{
 "cells": [
  {
   "cell_type": "code",
   "execution_count": 1,
   "id": "13928d1a-be22-4027-8e8d-e19ae70f5e8c",
   "metadata": {},
   "outputs": [],
   "source": [
    "import pandas as pd                \n",
    "import requests                \n",
    "from bs4 import BeautifulSoup                \n",
    "import os                \n",
    "import numpy as np                \n",
    "import pandas as pd                \n",
    "import yfinance as yf"
   ]
  },
  {
   "cell_type": "code",
   "execution_count": null,
   "id": "b52b2e9c-758e-41c3-9671-920ed68c452c",
   "metadata": {},
   "outputs": [],
   "source": [
    "def fetch_info():\n",
    "    try:\n",
    "        url = 'https://en.wikipedia.org/wiki/Dow_Jones_Industrial_Average'\n",
    "        headers = {\n",
    "            'User-Agent': 'Mozilla/5.0 (Windows NT 10.0; Win64; x64; rv:101.0) Gecko/20100101 Firefox/101.0',                \n",
    "            'Accept': 'application/json',                \n",
    "            'Accept-Language': 'en-US,en;q=0.5',                \n",
    "        }\n",
    "        response = requests.get(url, headers=headers)\n",
    "        soup = BeautifulSoup(response.content, 'html.parser')\n",
    "        tables = soup.find_all('table')\n",
    "        df = pd.read_html(str(tables))[1]\n",
    "        df.drop(columns=['Notes'], inplace=True)\n",
    "\n",
    "        return df\n",
    "    except:\n",
    "        print('Error loading data')\n",
    "        \n",
    "        return None\n",
    "\n",
    "dji_df = fetch_info()\n",
    "dji_df\n",
    "        "
   ]
  },
  {
   "cell_type": "code",
   "execution_count": null,
   "id": "385902f8-dd15-4221-a837-0b9cea72d273",
   "metadata": {},
   "outputs": [],
   "source": []
  },
  {
   "cell_type": "code",
   "execution_count": null,
   "id": "05404015-a1ef-41df-bf8e-6c367044b1e9",
   "metadata": {},
   "outputs": [],
   "source": []
  },
  {
   "cell_type": "code",
   "execution_count": null,
   "id": "6e5d1f8d-993f-4ee2-8754-556f0ffe3625",
   "metadata": {},
   "outputs": [],
   "source": []
  },
  {
   "cell_type": "code",
   "execution_count": null,
   "id": "423a1807-cd5a-4d33-8b2f-bd73acc6cbeb",
   "metadata": {},
   "outputs": [],
   "source": []
  },
  {
   "cell_type": "code",
   "execution_count": null,
   "id": "5b3e8018-ba5e-47a3-ac0f-c85e9201c8de",
   "metadata": {},
   "outputs": [],
   "source": []
  },
  {
   "cell_type": "code",
   "execution_count": null,
   "id": "0753119d-ea62-431a-9401-c9dd7bfb7588",
   "metadata": {},
   "outputs": [],
   "source": []
  },
  {
   "cell_type": "code",
   "execution_count": null,
   "id": "461620b4-a4ab-4ec2-a984-4577e861165c",
   "metadata": {},
   "outputs": [],
   "source": []
  },
  {
   "cell_type": "code",
   "execution_count": null,
   "id": "7cc4b018-7e1e-4767-a104-85c52e8ec8f9",
   "metadata": {},
   "outputs": [],
   "source": []
  },
  {
   "cell_type": "code",
   "execution_count": null,
   "id": "2ecfbb61-d0c1-4738-b267-8cc343a2522e",
   "metadata": {},
   "outputs": [],
   "source": []
  },
  {
   "cell_type": "code",
   "execution_count": null,
   "id": "925289c6-911d-419b-90ac-ca3de383c61b",
   "metadata": {},
   "outputs": [],
   "source": []
  },
  {
   "cell_type": "code",
   "execution_count": null,
   "id": "5aa40e19-c8c2-452c-9274-7e2c2b2dc24b",
   "metadata": {},
   "outputs": [],
   "source": []
  },
  {
   "cell_type": "code",
   "execution_count": null,
   "id": "aff99ece-fa81-41cf-861e-a5e38120e35a",
   "metadata": {},
   "outputs": [],
   "source": []
  },
  {
   "cell_type": "code",
   "execution_count": null,
   "id": "42087f36-6fd0-4a97-b5bd-f6bc8c33b121",
   "metadata": {},
   "outputs": [],
   "source": []
  },
  {
   "cell_type": "code",
   "execution_count": null,
   "id": "2d76385e-7768-46ff-b8bb-3bf0d8e5f205",
   "metadata": {},
   "outputs": [],
   "source": []
  },
  {
   "cell_type": "code",
   "execution_count": null,
   "id": "fbc3ac32-a655-4dba-bd8a-5fa6ad9395e4",
   "metadata": {},
   "outputs": [],
   "source": []
  },
  {
   "cell_type": "code",
   "execution_count": null,
   "id": "ef12d2fc-5c71-46e5-bbf6-9f54fa8c0b84",
   "metadata": {},
   "outputs": [],
   "source": []
  },
  {
   "cell_type": "code",
   "execution_count": null,
   "id": "3499c7f9-b1c3-448c-91cd-7afbf4575567",
   "metadata": {},
   "outputs": [],
   "source": []
  },
  {
   "cell_type": "code",
   "execution_count": null,
   "id": "d1833293-b499-4a13-9f8f-92e0edf8d101",
   "metadata": {},
   "outputs": [],
   "source": []
  },
  {
   "cell_type": "code",
   "execution_count": null,
   "id": "f7dad6d8-9869-4c87-8f90-b2112594a928",
   "metadata": {},
   "outputs": [],
   "source": []
  },
  {
   "cell_type": "code",
   "execution_count": null,
   "id": "2e1b09f7-2be1-40de-821c-9fb633661b46",
   "metadata": {},
   "outputs": [],
   "source": []
  },
  {
   "cell_type": "code",
   "execution_count": null,
   "id": "28c9c64c-35b1-4bb6-a427-a62cf9627e6c",
   "metadata": {},
   "outputs": [],
   "source": []
  },
  {
   "cell_type": "code",
   "execution_count": null,
   "id": "bff437a6-5ae9-44ab-b7ab-7931e069c1e3",
   "metadata": {},
   "outputs": [],
   "source": []
  }
 ],
 "metadata": {
  "kernelspec": {
   "display_name": "Python 3 (ipykernel)",
   "language": "python",
   "name": "python3"
  },
  "language_info": {
   "codemirror_mode": {
    "name": "ipython",
    "version": 3
   },
   "file_extension": ".py",
   "mimetype": "text/x-python",
   "name": "python",
   "nbconvert_exporter": "python",
   "pygments_lexer": "ipython3",
   "version": "3.11.2"
  }
 },
 "nbformat": 4,
 "nbformat_minor": 5
}
